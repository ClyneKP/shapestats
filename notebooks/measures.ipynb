{
 "cells": [
  {
   "cell_type": "code",
   "execution_count": 30,
   "metadata": {},
   "outputs": [],
   "source": [
    "import shapestats\n",
    "from shapely import geometry\n",
    "%matplotlib inline"
   ]
  },
  {
   "cell_type": "code",
   "execution_count": 2,
   "metadata": {},
   "outputs": [],
   "source": [
    "shape = geometry.Polygon([(0,0),\n",
    "                          (.25,.25),\n",
    "                          (0,.5),\n",
    "                          (.25,.75),\n",
    "                          (0,1),\n",
    "                          (1.25,1),\n",
    "                          (.75,.5),\n",
    "                          (1.25,0)])"
   ]
  },
  {
   "cell_type": "code",
   "execution_count": 3,
   "metadata": {},
   "outputs": [
    {
     "data": {
      "image/svg+xml": [
       "<svg xmlns=\"http://www.w3.org/2000/svg\" xmlns:xlink=\"http://www.w3.org/1999/xlink\" width=\"100.0\" height=\"100.0\" viewBox=\"-0.05 -0.05 1.35 1.1\" preserveAspectRatio=\"xMinYMin meet\"><g transform=\"matrix(1,0,0,-1,0,1.0)\"><path fill-rule=\"evenodd\" fill=\"#66cc99\" stroke=\"#555555\" stroke-width=\"0.027000000000000003\" opacity=\"0.6\" d=\"M 0.0,0.0 L 0.25,0.25 L 0.0,0.5 L 0.25,0.75 L 0.0,1.0 L 1.25,1.0 L 0.75,0.5 L 1.25,0.0 L 0.0,0.0 z\" /></g></svg>"
      ],
      "text/plain": [
       "<shapely.geometry.polygon.Polygon at 0x7f965a26c320>"
      ]
     },
     "execution_count": 3,
     "metadata": {},
     "output_type": "execute_result"
    }
   ],
   "source": [
    "shape"
   ]
  },
  {
   "cell_type": "code",
   "execution_count": 4,
   "metadata": {},
   "outputs": [
    {
     "data": {
      "text/plain": [
       "0.8445268922044888"
      ]
     },
     "execution_count": 4,
     "metadata": {},
     "output_type": "execute_result"
    }
   ],
   "source": [
    "shapestats.boundary_amplitude(shape)"
   ]
  },
  {
   "cell_type": "code",
   "execution_count": 5,
   "metadata": {},
   "outputs": [
    {
     "data": {
      "text/plain": [
       "0.7"
      ]
     },
     "execution_count": 5,
     "metadata": {},
     "output_type": "execute_result"
    }
   ],
   "source": [
    "shapestats.convex_hull(shape)"
   ]
  },
  {
   "cell_type": "code",
   "execution_count": 6,
   "metadata": {},
   "outputs": [
    {
     "data": {
      "text/plain": [
       "0.25"
      ]
     },
     "execution_count": 6,
     "metadata": {},
     "output_type": "execute_result"
    }
   ],
   "source": [
    "shapestats.eig_seitzinger(shape)"
   ]
  },
  {
   "cell_type": "code",
   "execution_count": 7,
   "metadata": {},
   "outputs": [
    {
     "data": {
      "text/plain": [
       "0.2208630521496931"
      ]
     },
     "execution_count": 7,
     "metadata": {},
     "output_type": "execute_result"
    }
   ],
   "source": [
    "shapestats.flaherty_crumplin_lw(shape)"
   ]
  },
  {
   "cell_type": "code",
   "execution_count": 8,
   "metadata": {},
   "outputs": [
    {
     "data": {
      "text/plain": [
       "0.659366910447055"
      ]
     },
     "execution_count": 8,
     "metadata": {},
     "output_type": "execute_result"
    }
   ],
   "source": [
    "shapestats.flaherty_crumplin_radius(shape)"
   ]
  },
  {
   "cell_type": "code",
   "execution_count": 9,
   "metadata": {},
   "outputs": [
    {
     "data": {
      "text/plain": [
       "0.6223145112707572"
      ]
     },
     "execution_count": 9,
     "metadata": {},
     "output_type": "execute_result"
    }
   ],
   "source": [
    "shapestats.iaq(shape)"
   ]
  },
  {
   "cell_type": "code",
   "execution_count": 10,
   "metadata": {},
   "outputs": [
    {
     "data": {
      "text/plain": [
       "0.3872753509381614"
      ]
     },
     "execution_count": 10,
     "metadata": {},
     "output_type": "execute_result"
    }
   ],
   "source": [
    "shapestats.ipq(shape)"
   ]
  },
  {
   "cell_type": "code",
   "execution_count": 11,
   "metadata": {},
   "outputs": [
    {
     "data": {
      "text/plain": [
       "3.249799119658992"
      ]
     },
     "execution_count": 11,
     "metadata": {},
     "output_type": "execute_result"
    }
   ],
   "source": [
    "shapestats.moa_ratio(shape)"
   ]
  },
  {
   "cell_type": "code",
   "execution_count": 12,
   "metadata": {},
   "outputs": [
    {
     "data": {
      "text/plain": [
       "0.3157153580571984"
      ]
     },
     "execution_count": 12,
     "metadata": {},
     "output_type": "execute_result"
    }
   ],
   "source": [
    "shapestats.moment_of_inertia(shape)"
   ]
  },
  {
   "cell_type": "code",
   "execution_count": 13,
   "metadata": {},
   "outputs": [
    {
     "data": {
      "text/plain": [
       "0.48741201321892946"
      ]
     },
     "execution_count": 13,
     "metadata": {},
     "output_type": "execute_result"
    }
   ],
   "source": [
    "shapestats.nmi(shape)"
   ]
  },
  {
   "cell_type": "code",
   "execution_count": 14,
   "metadata": {},
   "outputs": [
    {
     "data": {
      "text/plain": [
       "0.3872753509381614"
      ]
     },
     "execution_count": 14,
     "metadata": {},
     "output_type": "execute_result"
    }
   ],
   "source": [
    "shapestats.polsby_popper(shape)"
   ]
  },
  {
   "cell_type": "code",
   "execution_count": 15,
   "metadata": {},
   "outputs": [
    {
     "data": {
      "text/plain": [
       "0.4347647225924946"
      ]
     },
     "execution_count": 15,
     "metadata": {},
     "output_type": "execute_result"
    }
   ],
   "source": [
    "shapestats.reock(shape)"
   ]
  },
  {
   "cell_type": "code",
   "execution_count": 16,
   "metadata": {},
   "outputs": [
    {
     "data": {
      "text/plain": [
       "0.6223145112707572"
      ]
     },
     "execution_count": 16,
     "metadata": {},
     "output_type": "execute_result"
    }
   ],
   "source": [
    "shapestats.schwartzberg(shape)"
   ]
  },
  {
   "cell_type": "code",
   "execution_count": 17,
   "metadata": {},
   "outputs": [
    {
     "data": {
      "text/plain": [
       "-0.3333333333333333"
      ]
     },
     "execution_count": 17,
     "metadata": {},
     "output_type": "execute_result"
    }
   ],
   "source": [
    "shapestats.taylor_reflexive(shape)"
   ]
  },
  {
   "cell_type": "code",
   "execution_count": 19,
   "metadata": {},
   "outputs": [
    {
     "data": {
      "image/svg+xml": [
       "<svg xmlns=\"http://www.w3.org/2000/svg\" xmlns:xlink=\"http://www.w3.org/1999/xlink\" width=\"100.0\" height=\"100.0\" viewBox=\"0.10339204588935628 0.1658920458893563 0.6682159082212875 0.6682159082212875\" preserveAspectRatio=\"xMinYMin meet\"><g transform=\"matrix(1,0,0,-1,0,1.0)\"><path fill-rule=\"evenodd\" fill=\"#66cc99\" stroke=\"#555555\" stroke-width=\"0.01336431816442575\" opacity=\"0.6\" d=\"M 0.7468592167691146,0.5 L 0.7453695675838962,0.4696774942376988 L 0.7409149661642198,0.43964701078185625 L 0.7335383127568897,0.4101977596044844 L 0.7233106485667073,0.3816133530930195 L 0.7103304715908344,0.3541690747079931 L 0.6947227880292348,0.32812922785282156 L 0.6766379084066346,0.3037445904875485 L 0.6562500000000002,0.2812500000000002 L 0.6337554095124519,0.2608620915933657 L 0.6093707721471788,0.24277721197076546 L 0.5833309252920074,0.22716952840916582 L 0.555886646906981,0.21418935143329276 L 0.5273022403955161,0.20396168724311048 L 0.4978529892181442,0.1965850338357803 L 0.4678225057623017,0.1921304324161039 L 0.4375000000000005,0.19064078323088546 L 0.4071774942376993,0.19213043241610378 L 0.37714701078185675,0.19658503383578013 L 0.3476977596044849,0.2039616872431102 L 0.31911335309302,0.21418935143329237 L 0.2916690747079935,0.22716952840916538 L 0.26562922785282195,0.24277721197076496 L 0.2412445904875488,0.26086209159336515 L 0.2187500000000004,0.2812499999999996 L 0.19836209159336587,0.30374459048754787 L 0.18027721197076557,0.32812922785282095 L 0.16466952840916588,0.3541690747079925 L 0.15168935143329282,0.381613353093019 L 0.14146168724311048,0.4101977596044839 L 0.1340850338357803,0.43964701078185586 L 0.12963043241610384,0.4696774942376984 L 0.12814078323088546,0.49999999999999967 L 0.12963043241610384,0.530322505762301 L 0.1340850338357802,0.5603529892181436 L 0.1414616872431103,0.5898022403955154 L 0.1516893514332926,0.6183866469069804 L 0.1646695284091656,0.6458309252920069 L 0.18027721197076524,0.6718707721471785 L 0.1983620915933655,0.6962554095124516 L 0.21874999999999994,0.71875 L 0.24124459048754818,0.7391379084066343 L 0.26562922785282117,0.7572227880292346 L 0.29166907470799264,0.7728304715908342 L 0.31911335309301897,0.7858106485667071 L 0.3476977596044838,0.7960383127568895 L 0.37714701078185553,0.8034149661642196 L 0.40717749423769795,0.807869567583896 L 0.4374999999999991,0.8093592167691146 L 0.4678225057623003,0.8078695675838963 L 0.4978529892181427,0.80341496616422 L 0.5273022403955145,0.79603831275689 L 0.5558866469069794,0.7858106485667078 L 0.5833309252920058,0.772830471590835 L 0.6093707721471774,0.7572227880292355 L 0.6337554095124505,0.7391379084066354 L 0.6562499999999988,0.7187500000000012 L 0.6766379084066333,0.6962554095124531 L 0.6947227880292337,0.6718707721471802 L 0.7103304715908334,0.6458309252920088 L 0.7233106485667065,0.6183866469069825 L 0.733538312756889,0.5898022403955179 L 0.7409149661642194,0.560352989218146 L 0.7453695675838959,0.5303225057623037 L 0.7468592167691146,0.5000000000000026 L 0.7468592167691146,0.5 z\" /></g></svg>"
      ],
      "text/plain": [
       "<shapely.geometry.polygon.Polygon at 0x7f965a26cf98>"
      ]
     },
     "execution_count": 19,
     "metadata": {},
     "output_type": "execute_result"
    }
   ],
   "source": [
    "shapestats.maxbc.maximum_contained_circle(shape)"
   ]
  },
  {
   "cell_type": "code",
   "execution_count": 20,
   "metadata": {},
   "outputs": [
    {
     "data": {
      "image/svg+xml": [
       "<svg xmlns=\"http://www.w3.org/2000/svg\" xmlns:xlink=\"http://www.w3.org/1999/xlink\" width=\"100.0\" height=\"100.0\" viewBox=\"-0.23942177205343457 -0.36442177205343457 1.7288435441068692 1.7288435441068692\" preserveAspectRatio=\"xMinYMin meet\"><g transform=\"matrix(1,0,0,-1,0,1.0)\"><path fill-rule=\"evenodd\" fill=\"#66cc99\" stroke=\"#555555\" stroke-width=\"0.03457687088213739\" opacity=\"0.6\" d=\"M 1.425390529679106,0.5 L 1.421536430509716,0.4215480091339918 L 1.410011250083412,0.3438515538262439 L 1.3909259821880045,0.2676588934145727 L 1.3644644283863938,0.19370380486988775 L 1.3308814279070469,0.12269851612283794 L 1.2905004034029153,0.055326846919496575 L 1.2437102462144873,-0.0077623767366074015 L 1.190961571133589,-0.06596157113358803 L 1.1327623767366086,-0.11871024621448645 L 1.0696731530805046,-0.16550040340291472 L 1.0023014838771631,-0.20588142790704633 L 0.9312961951301134,-0.23946442838639337 L 0.8573411065854285,-0.2659259821880039 L 0.7811484461737573,-0.285011250083412 L 0.7034519908660095,-0.2965364305097159 L 0.6250000000000013,-0.30039052967910607 L 0.5465480091339932,-0.29653643050971623 L 0.46885155382624516,-0.28501125008341244 L 0.392658893414574,-0.2659259821880047 L 0.318703804869889,-0.23946442838639426 L 0.24769851612283916,-0.20588142790704766 L 0.18032684691949757,-0.16550040340291605 L 0.11723762326339338,-0.118710246214488 L 0.05903842886641253,-0.06596157113358958 L 0.006289753785513885,-0.007762376736608956 L -0.04050040340291439,0.055326846919495076 L -0.08088142790704622,0.1226985161228365 L -0.11446442838639326,0.19370380486988636 L -0.1409259821880039,0.2676588934145715 L -0.160011250083412,0.3438515538262428 L -0.171536430509716,0.4215480091339908 L -0.17539052967910607,0.49999999999999917 L -0.17153643050971612,0.5784519908660075 L -0.16001125008341233,0.6561484461737557 L -0.14092598218800434,0.732341106585427 L -0.11446442838639381,0.8062961951301122 L -0.080881427907047,0.8773014838771621 L -0.040500403402915275,0.9446731530805036 L 0.006289753785512886,1.0077623767366077 L 0.05903842886641131,1.0659615711335886 L 0.11723762326339182,1.1187102462144867 L 0.18032684691949563,1.1655004034029148 L 0.24769851612283672,1.2058814279070464 L 0.3187038048698863,1.2394644283863934 L 0.3926588934145711,1.265925982188004 L 0.468851553826242,1.2850112500834117 L 0.5465480091339897,1.2965364305097158 L 0.6249999999999977,1.300390529679106 L 0.7034519908660057,1.2965364305097162 L 0.7811484461737535,1.2850112500834125 L 0.8573411065854245,1.2659259821880051 L 0.9312961951301095,1.2394644283863951 L 1.0023014838771593,1.2058814279070487 L 1.0696731530805006,1.1655004034029173 L 1.1327623767366046,1.1187102462144896 L 1.1909615711335855,1.0659615711335917 L 1.243710246214484,1.0077623767366115 L 1.2905004034029124,0.9446731530805079 L 1.3308814279070442,0.8773014838771671 L 1.3644644283863916,0.8062961951301177 L 1.3909259821880027,0.732341106585433 L 1.410011250083411,0.6561484461737622 L 1.4215364305097156,0.5784519908660146 L 1.425390529679106,0.5000000000000066 L 1.425390529679106,0.5 z\" /></g></svg>"
      ],
      "text/plain": [
       "<shapely.geometry.polygon.Polygon at 0x7f965aa6a390>"
      ]
     },
     "execution_count": 20,
     "metadata": {},
     "output_type": "execute_result"
    }
   ],
   "source": [
    "shapestats.minbc.minimum_bounding_circle(shape)"
   ]
  },
  {
   "cell_type": "code",
   "execution_count": 21,
   "metadata": {},
   "outputs": [],
   "source": [
    "xy = shapestats.compactness._get_pointset(shape)"
   ]
  },
  {
   "cell_type": "code",
   "execution_count": 22,
   "metadata": {},
   "outputs": [
    {
     "data": {
      "text/plain": [
       "(0.30935921676911454, (0.4375, 0.5))"
      ]
     },
     "execution_count": 22,
     "metadata": {},
     "output_type": "execute_result"
    }
   ],
   "source": [
    "shapestats.maxbc.maximum_contained_circle(xy)"
   ]
  },
  {
   "cell_type": "code",
   "execution_count": 23,
   "metadata": {},
   "outputs": [
    {
     "data": {
      "text/plain": [
       "(0.8003905296791061, (0.625, 0.5))"
      ]
     },
     "execution_count": 23,
     "metadata": {},
     "output_type": "execute_result"
    }
   ],
   "source": [
    "shapestats.minbc.minimum_bounding_circle(xy)"
   ]
  },
  {
   "cell_type": "code",
   "execution_count": 26,
   "metadata": {},
   "outputs": [],
   "source": [
    "import geopandas"
   ]
  },
  {
   "cell_type": "code",
   "execution_count": 28,
   "metadata": {},
   "outputs": [],
   "source": [
    "test = geopandas.GeoDataFrame({'geometry':\n",
    "                        [shape, \n",
    "                         shapestats.maxbc.maximum_contained_circle(shape),\n",
    "                         shapestats.minbc.minimum_bounding_circle(shape)]})"
   ]
  },
  {
   "cell_type": "code",
   "execution_count": 34,
   "metadata": {},
   "outputs": [],
   "source": [
    "import matplotlib.pyplot as plt"
   ]
  },
  {
   "cell_type": "code",
   "execution_count": 35,
   "metadata": {},
   "outputs": [
    {
     "data": {
      "image/png": "[encoded data removed]",
      "text/plain": [
       "<Figure size 432x288 with 1 Axes>"
      ]
     },
     "metadata": {},
     "output_type": "display_data"
    }
   ],
   "source": [
    "test.boundary.plot()\n",
    "plt.axis('off')\n",
    "plt.savefig(\"./_img/mbc_and_mcc.png\")"
   ]
  },
  {
   "cell_type": "code",
   "execution_count": null,
   "metadata": {},
   "outputs": [],
   "source": []
  }
 ],
 "metadata": {
  "kernelspec": {
   "display_name": "Analysis",
   "language": "python",
   "name": "ana"
  },
  "language_info": {
   "codemirror_mode": {
    "name": "ipython",
    "version": 3
   },
   "file_extension": ".py",
   "mimetype": "text/x-python",
   "name": "python",
   "nbconvert_exporter": "python",
   "pygments_lexer": "ipython3",
   "version": "3.6.4"
  }
 },
 "nbformat": 4,
 "nbformat_minor": 2
}
